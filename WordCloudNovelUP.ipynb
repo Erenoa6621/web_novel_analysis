{
  "nbformat": 4,
  "nbformat_minor": 0,
  "metadata": {
    "colab": {
      "name": "WordCloudNovelUP.ipynb",
      "provenance": [],
      "authorship_tag": "ABX9TyMqB6TjZPRWyORyio8x2yaD",
      "include_colab_link": true
    },
    "kernelspec": {
      "name": "python3",
      "display_name": "Python 3"
    },
    "language_info": {
      "name": "python"
    }
  },
  "cells": [
    {
      "cell_type": "markdown",
      "metadata": {
        "id": "view-in-github",
        "colab_type": "text"
      },
      "source": [
        "<a href=\"https://colab.research.google.com/github/Erenoa6621/web_novel_analysis/blob/master/WordCloudNovelUP.ipynb\" target=\"_parent\"><img src=\"https://colab.research.google.com/assets/colab-badge.svg\" alt=\"Open In Colab\"/></a>"
      ]
    },
    {
      "cell_type": "code",
      "metadata": {
        "id": "AW8I-yRZL0u5"
      },
      "source": [
        "!pip install janome\n",
        "from janome.tokenizer import Tokenizer\n",
        "t = Tokenizer()"
      ],
      "execution_count": null,
      "outputs": []
    },
    {
      "cell_type": "code",
      "metadata": {
        "id": "xW5alYmsL97l"
      },
      "source": [
        "from google.colab import auth\n",
        "from oauth2client.client import GoogleCredentials\n",
        "import gspread\n",
        "\n",
        "auth.authenticate_user()\n",
        "gc = gspread.authorize(GoogleCredentials.get_application_default())\n",
        "\n",
        "BOOKNAME = \"ノベルUP小説集\"\n",
        "book = gc.open(BOOKNAME)\n",
        "book.worksheets()"
      ],
      "execution_count": null,
      "outputs": []
    },
    {
      "cell_type": "code",
      "metadata": {
        "id": "C2bpbvG3M0_a"
      },
      "source": [
        "sheet = book.get_worksheet(2)\n",
        "wordlist = []\n",
        "for i in range(5,sheet.row_count):\n",
        "  msg = sheet.cell(i,5).value\n",
        "  for token in t.tokenize(msg):\n",
        "    pos = token.part_of_speech.split(',')\n",
        "    if pos[0] == '名詞':\n",
        "      if pos[1] not in ['代名詞','非自立','数','接尾']:\n",
        "        if token.base_form not in['\"','ー','（','）','(',')','ッ','*','～','〝','〟',')〟','ぉ','！\\u3000〝']:\n",
        "          wordlist.append(token.base_form)\n"
      ],
      "execution_count": null,
      "outputs": []
    },
    {
      "cell_type": "code",
      "metadata": {
        "id": "2ctNjAbfM2J9"
      },
      "source": [
        "from collections import Counter\n",
        "wordrank = Counter(wordlist)\n",
        "wordrank.most_common(50)"
      ],
      "execution_count": null,
      "outputs": []
    },
    {
      "cell_type": "code",
      "metadata": {
        "id": "VVFJWbpUM5C3"
      },
      "source": [
        "!pip install japanize_matplotlib"
      ],
      "execution_count": null,
      "outputs": []
    },
    {
      "cell_type": "code",
      "metadata": {
        "id": "3iqfwDegM6ip"
      },
      "source": [
        "import seaborn as sns\n",
        "import matplotlib.pyplot as plt\n",
        "import japanize_matplotlib\n",
        "sns.set(font=\"IPAexGothic\")\n",
        "fig = plt.subplots(figsize=(8,10))\n",
        "plt.title(\"単語カウント\")\n",
        "\n",
        "sns.countplot(y=wordlist,\n",
        "              order=[i[0] for i in wordrank.most_common(50)])"
      ],
      "execution_count": null,
      "outputs": []
    },
    {
      "cell_type": "code",
      "metadata": {
        "id": "rhducHFtM8ma"
      },
      "source": [
        "from wordcloud import  WordCloud\n",
        "tdata = [i for i in wordlist ]\n",
        "wcdata = \",\".join(tdata)\n",
        "f_path = japanize_matplotlib.get_font_ttf_path()\n",
        "wc = WordCloud(font_path=f_path,\n",
        "               background_color='white',\n",
        "               width=800,height=800).generate(wcdata)\n",
        "plt.figure(figsize=(10,10))\n",
        "plt.axis(\"off\")\n",
        "plt.imshow(wc,interpolation=\"bilinear\")"
      ],
      "execution_count": null,
      "outputs": []
    }
  ]
}