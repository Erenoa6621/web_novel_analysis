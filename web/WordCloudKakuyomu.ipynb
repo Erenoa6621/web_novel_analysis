{
  "nbformat": 4,
  "nbformat_minor": 0,
  "metadata": {
    "colab": {
      "name": "WordCloudKakuyomu.ipynb",
      "provenance": [],
      "collapsed_sections": [],
      "authorship_tag": "ABX9TyNd/1AiXy9yNibIIvt9wWoK",
      "include_colab_link": true
    },
    "kernelspec": {
      "name": "python3",
      "display_name": "Python 3"
    },
    "language_info": {
      "name": "python"
    }
  },
  "cells": [
    {
      "cell_type": "markdown",
      "metadata": {
        "id": "view-in-github",
        "colab_type": "text"
      },
      "source": [
        "<a href=\"https://colab.research.google.com/github/Erenoa6621/web_novel_analysis/blob/master/WordCloudKakuyomu.ipynb\" target=\"_parent\"><img src=\"https://colab.research.google.com/assets/colab-badge.svg\" alt=\"Open In Colab\"/></a>"
      ]
    },
    {
      "cell_type": "code",
      "metadata": {
        "id": "dd4RoO1RbH7F"
      },
      "source": [
        "!pip install janome\n",
        "from janome.tokenizer import Tokenizer\n",
        "t = Tokenizer()"
      ],
      "execution_count": null,
      "outputs": []
    },
    {
      "cell_type": "code",
      "metadata": {
        "id": "lYD5WBpjbPJN"
      },
      "source": [
        "from google.colab import auth\n",
        "from oauth2client.client import GoogleCredentials\n",
        "import gspread\n",
        "\n",
        "auth.authenticate_user()\n",
        "gc = gspread.authorize(GoogleCredentials.get_application_default())\n",
        "\n",
        "BOOKNAME = \"カクヨム小説集\"\n",
        "book = gc.open(BOOKNAME)\n",
        "book.worksheets()"
      ],
      "execution_count": null,
      "outputs": []
    },
    {
      "cell_type": "code",
      "metadata": {
        "id": "PG9963l_bQhS"
      },
      "source": [
        "sheet = book.get_worksheet(3)\n",
        "wordlist = []\n",
        "for i in range(5,sheet.row_count):\n",
        "  msg = sheet.cell(i,5).value\n",
        "  for token in t.tokenize(msg):\n",
        "    pos = token.part_of_speech.split(',')\n",
        "    if pos[0] == '名詞':\n",
        "      if pos[1] not in ['代名詞','非自立','数','接尾']:\n",
        "        if token.base_form not in['\"','ー','（','）','(',')','ッ','*','～','————']:\n",
        "          wordlist.append(token.base_form)"
      ],
      "execution_count": null,
      "outputs": []
    },
    {
      "cell_type": "code",
      "metadata": {
        "id": "lI8z9RqtbRlB"
      },
      "source": [
        "from collections import Counter\n",
        "wordrank = Counter(wordlist)\n",
        "wordrank.most_common(30)"
      ],
      "execution_count": null,
      "outputs": []
    },
    {
      "cell_type": "code",
      "metadata": {
        "id": "QLexca5ObT4m"
      },
      "source": [
        "!pip install japanize_matplotlib"
      ],
      "execution_count": null,
      "outputs": []
    },
    {
      "cell_type": "code",
      "metadata": {
        "id": "sWIEY4bubUYp"
      },
      "source": [
        "import seaborn as sns\n",
        "import matplotlib.pyplot as plt\n",
        "import japanize_matplotlib\n",
        "sns.set(font=\"IPAexGothic\")\n",
        "fig = plt.subplots(figsize=(8,10))\n",
        "plt.title(\"単語カウント\")\n",
        "\n",
        "sns.countplot(y=wordlist,\n",
        "              order=[i[0] for i in wordrank.most_common(50)])"
      ],
      "execution_count": null,
      "outputs": []
    },
    {
      "cell_type": "code",
      "metadata": {
        "id": "bRzvrX0fbWk4"
      },
      "source": [
        "from wordcloud import  WordCloud\n",
        "tdata = [i for i in wordlist ]\n",
        "wcdata = \",\".join(tdata)\n",
        "f_path = japanize_matplotlib.get_font_ttf_path()\n",
        "wc = WordCloud(font_path=f_path,\n",
        "               background_color='white',\n",
        "               width=800,height=800).generate(wcdata)\n",
        "plt.figure(figsize=(10,10))\n",
        "plt.axis(\"off\")\n",
        "plt.imshow(wc,interpolation=\"bilinear\")"
      ],
      "execution_count": null,
      "outputs": []
    }
  ]
}