{
  "nbformat": 4,
  "nbformat_minor": 0,
  "metadata": {
    "colab": {
      "name": "WordCloudNarou.ipynb",
      "provenance": [],
      "collapsed_sections": [],
      "authorship_tag": "ABX9TyMJIbNgJShYqvHNRlI46+S8",
      "include_colab_link": true
    },
    "kernelspec": {
      "name": "python3",
      "display_name": "Python 3"
    }
  },
  "cells": [
    {
      "cell_type": "markdown",
      "metadata": {
        "id": "view-in-github",
        "colab_type": "text"
      },
      "source": [
        "<a href=\"https://colab.research.google.com/github/Erenoa6621/web_novel_analysis/blob/master/WordCloudNarou.ipynb\" target=\"_parent\"><img src=\"https://colab.research.google.com/assets/colab-badge.svg\" alt=\"Open In Colab\"/></a>"
      ]
    },
    {
      "cell_type": "code",
      "metadata": {
        "id": "IHKHbK_IjBZv"
      },
      "source": [
        "!pip install janome\n",
        "from janome.tokenizer import Tokenizer\n",
        "t = Tokenizer()"
      ],
      "execution_count": null,
      "outputs": []
    },
    {
      "cell_type": "code",
      "metadata": {
        "id": "UMb3So4xh47u"
      },
      "source": [
        "from google.colab import auth\n",
        "from oauth2client.client import GoogleCredentials\n",
        "import gspread\n",
        "\n",
        "auth.authenticate_user()\n",
        "gc = gspread.authorize(GoogleCredentials.get_application_default())\n",
        "\n",
        "BOOKNAME = \"なろう小説\"\n",
        "book = gc.open(BOOKNAME)\n",
        "book.worksheets()"
      ],
      "execution_count": null,
      "outputs": []
    },
    {
      "cell_type": "code",
      "metadata": {
        "id": "z6w99GwDjjPY"
      },
      "source": [
        "sheet = book.get_worksheet(2)\n",
        "wordlist = []\n",
        "for i in range(5,sheet.row_count):\n",
        "  msg = sheet.cell(i,5).value\n",
        "  for token in t.tokenize(msg):\n",
        "    pos = token.part_of_speech.split(',')\n",
        "    if pos[0] == '名詞':\n",
        "      if pos[1] not in ['代名詞','非自立','数','接尾']:\n",
        "        if token.base_form not in['\"','ー','（','）','(',')','ッ','*','～','ーー',')》',')、',')。']:\n",
        "          wordlist.append(token.base_form)\n"
      ],
      "execution_count": null,
      "outputs": []
    },
    {
      "cell_type": "code",
      "metadata": {
        "id": "-MwZmCvKks47"
      },
      "source": [
        "from collections import Counter\n",
        "wordrank = Counter(wordlist)\n",
        "wordrank.most_common(30)"
      ],
      "execution_count": null,
      "outputs": []
    },
    {
      "cell_type": "code",
      "metadata": {
        "id": "ZyZ__dwKn8Ho"
      },
      "source": [
        "!pip install japanize_matplotlib"
      ],
      "execution_count": null,
      "outputs": []
    },
    {
      "cell_type": "code",
      "metadata": {
        "id": "TnglDTs4nRbv"
      },
      "source": [
        "import seaborn as sns\n",
        "import matplotlib.pyplot as plt\n",
        "import japanize_matplotlib\n",
        "sns.set(font=\"IPAexGothic\")\n",
        "fig = plt.subplots(figsize=(8,10))\n",
        "plt.title(\"単語カウント\")\n",
        "\n",
        "sns.countplot(y=wordlist,\n",
        "              order=[i[0] for i in wordrank.most_common(50)])\n"
      ],
      "execution_count": null,
      "outputs": []
    },
    {
      "cell_type": "code",
      "metadata": {
        "id": "S60zwJrroqZ_"
      },
      "source": [
        "from wordcloud import  WordCloud\n",
        "tdata = [i for i in wordlist ]\n",
        "wcdata = \",\".join(tdata)\n",
        "f_path = japanize_matplotlib.get_font_ttf_path()\n",
        "wc = WordCloud(font_path=f_path,\n",
        "               background_color='white',\n",
        "               width=800,height=800).generate(wcdata)\n",
        "plt.figure(figsize=(10,10))\n",
        "plt.axis(\"off\")\n",
        "plt.imshow(wc,interpolation=\"bilinear\")"
      ],
      "execution_count": null,
      "outputs": []
    },
    {
      "cell_type": "code",
      "metadata": {
        "id": "ha6NBKZbPfGP"
      },
      "source": [
        "print( wordlist)"
      ],
      "execution_count": null,
      "outputs": []
    },
    {
      "cell_type": "code",
      "metadata": {
        "id": "OcKjZ9-hZvrQ"
      },
      "source": [
        "!apt install mecab libmecab-dev mecab-ipadic-utf8\n",
        "!pip install mecab-python3\n",
        " \n",
        "!apt install git make curl xz-utils file\n",
        "!git clone --depth 1 https://github.com/neologd/mecab-ipadic-neologd.git\n",
        "!echo yes | mecab-ipadic-neologd/bin/install-mecab-ipadic-neologd -n -a\n",
        "!ln -s /etc/mecabrc /usr/local/etc/mecabrc\n",
        " \n",
        "!pip install -q transformers\n",
        "!pip install fugashi\n",
        "!pip install ipadic"
      ],
      "execution_count": null,
      "outputs": []
    }
  ]
}