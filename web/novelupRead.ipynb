{
  "nbformat": 4,
  "nbformat_minor": 0,
  "metadata": {
    "colab": {
      "name": "novelupRead.ipynb",
      "provenance": [],
      "authorship_tag": "ABX9TyO6gtC6IZGiJatMlDTETAdK",
      "include_colab_link": true
    },
    "kernelspec": {
      "display_name": "Python 3",
      "name": "python3"
    },
    "language_info": {
      "name": "python"
    }
  },
  "cells": [
    {
      "cell_type": "markdown",
      "metadata": {
        "id": "view-in-github",
        "colab_type": "text"
      },
      "source": [
        "<a href=\"https://colab.research.google.com/github/Erenoa6621/web_novel_analysis/blob/master/novelupRead.ipynb\" target=\"_parent\"><img src=\"https://colab.research.google.com/assets/colab-badge.svg\" alt=\"Open In Colab\"/></a>"
      ]
    },
    {
      "cell_type": "code",
      "metadata": {
        "id": "IDz1WHei8gms"
      },
      "source": [
        "import os,time,datetime\n",
        "from bs4 import BeautifulSoup\n",
        "from urllib.request import urlopen,urljoin,urlparse\n",
        "\n",
        "from google.colab import auth\n",
        "from oauth2client.client import  GoogleCredentials\n",
        "import gspread\n",
        "\n",
        "auth.authenticate_user()\n",
        "gc = gspread.authorize(GoogleCredentials.get_application_default())\n",
        "\n",
        "BOOKNAME = \"ノベルUP小説集\"\n",
        "try:\n",
        "  book = gc.open(BOOKNAME)\n",
        "except:\n",
        "  book = gc.create(BOOKNAME)"
      ],
      "execution_count": null,
      "outputs": []
    },
    {
      "cell_type": "code",
      "metadata": {
        "id": "bp8DyB8V9vvP"
      },
      "source": [
        "BASEURL = 'https://novelup.plus/story/'\n",
        "NCODE = '825445162'\n",
        "url = f\"{BASEURL}{NCODE}\"\n",
        "\n",
        "html = urlopen(url)\n",
        "soup = BeautifulSoup(html,'html.parser')\n",
        "novel_title = soup.find(\"div\",class_=\"novel_title\").get_text(strip=True)\n",
        "author = soup.find(\"div\",class_=\"novel_author\").get_text(strip=True)\n",
        "s = len(soup.find_all(\"div\",class_=\"episode_link episode_show_visited\"))\n",
        "print(novel_title)\n",
        "\n",
        "try:\n",
        "  sheet = book.worksheet(novel_title[:16])\n",
        "except:\n",
        "  sheet = book.add_worksheet(novel_title[:16],5+s,6) "
      ],
      "execution_count": null,
      "outputs": []
    },
    {
      "cell_type": "code",
      "metadata": {
        "id": "5XdK6TiL-mr4"
      },
      "source": [
        "sheet.update_cell(1,1,\"タイトル\")\n",
        "sheet.update_cell(1,2,\"作品名：\"+novel_title)\n",
        "sheet.update_acell(\"A2\",\"著者\")\n",
        "sheet.update_acell(\"B2\",\"作者：\"+author)\n",
        "sheet.update_acell(\"A3\",\"NCODE\")\n",
        "sheet.update_acell(\"B3\",NCODE)"
      ],
      "execution_count": null,
      "outputs": []
    },
    {
      "cell_type": "code",
      "metadata": {
        "id": "PCAN5Aj6CIAc"
      },
      "source": [
        "i = 4\n",
        "count = 0\n",
        "sheet.append_row([\"更新\",\"サブタイトル\",\"前書き\",\"あとがき\",\"本文\",\"URL\"])\n",
        "file = \"Load.txt\"\n",
        "for data in soup.find_all(\"li\",class_=\"\"):\n",
        "  if s == count:\n",
        "    break\n",
        "  subtitle = data.select_one(\"a\").get_text(strip=True)\n",
        "  update = data.select(\"span\")[1].text\n",
        "  texturl = urljoin(url,data.a['href'])\n",
        "  print(subtitle,update,texturl)\n",
        "  count+=1\n",
        "  \n",
        "  textdata = urlopen(texturl)\n",
        "  textsoup = BeautifulSoup(textdata,\"html.parser\")\n",
        "  text = textsoup.find(\"div\",class_=\"content\").get_text(strip=True)\n",
        "\n",
        "  text = text.replace('\\n', '')\n",
        "\n",
        "  preface = ''\n",
        "  for tp in textsoup.select(\"div#novel_p\"):\n",
        "    preface += tp.get_text(strip=True)\n",
        "  afterword = ''\n",
        "  for aw in textsoup.select(\"div#novel_a\"):\n",
        "    afterword += aw.get_text(strip=True)\n",
        "  list =[update,subtitle,preface,afterword,text,texturl]\n",
        "  i+=1\n",
        "  for j,data in enumerate(list):\n",
        "    sheet.update_cell(i,j+1,data) \n",
        "    \n",
        "  fileobj = open(file, \"w\", encoding = \"utf_8\")\n",
        "  fileobj.write(subtitle);\n",
        "  fileobj.write(text);\n"
      ],
      "execution_count": null,
      "outputs": []
    }
  ]
}