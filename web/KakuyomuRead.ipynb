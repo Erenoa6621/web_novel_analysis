{
  "nbformat": 4,
  "nbformat_minor": 0,
  "metadata": {
    "colab": {
      "name": "KakuyomuRead.ipynb",
      "provenance": [],
      "collapsed_sections": [],
      "authorship_tag": "ABX9TyOuUkaIxsU2AuDpFpTbCGPc",
      "include_colab_link": true
    },
    "kernelspec": {
      "name": "python3",
      "display_name": "Python 3"
    },
    "language_info": {
      "name": "python"
    }
  },
  "cells": [
    {
      "cell_type": "markdown",
      "metadata": {
        "id": "view-in-github",
        "colab_type": "text"
      },
      "source": [
        "<a href=\"https://colab.research.google.com/github/Erenoa6621/web_novel_analysis/blob/master/KakuyomuRead.ipynb\" target=\"_parent\"><img src=\"https://colab.research.google.com/assets/colab-badge.svg\" alt=\"Open In Colab\"/></a>"
      ]
    },
    {
      "cell_type": "code",
      "metadata": {
        "id": "hIfIwCujC8WD"
      },
      "source": [
        "import os,time,datetime\n",
        "from bs4 import BeautifulSoup\n",
        "from urllib.request import urlopen,urljoin,urlparse\n",
        "\n",
        "from google.colab import auth\n",
        "from oauth2client.client import  GoogleCredentials\n",
        "import gspread\n",
        "\n",
        "auth.authenticate_user()\n",
        "gc = gspread.authorize(GoogleCredentials.get_application_default())\n",
        "\n",
        "BOOKNAME = \"カクヨム小説集\"\n",
        "try:\n",
        "  book = gc.open(BOOKNAME)\n",
        "except:\n",
        "  book = gc.create(BOOKNAME)"
      ],
      "execution_count": null,
      "outputs": []
    },
    {
      "cell_type": "code",
      "metadata": {
        "id": "qw4TjwP7DQpr"
      },
      "source": [
        "BASEURL = 'https://kakuyomu.jp/works/'\n",
        "NCODE = '1177354054891139802'\n",
        "url = f\"{BASEURL}{NCODE}\"\n",
        "\n",
        "html = urlopen(url)\n",
        "soup = BeautifulSoup(html,'lxml')\n",
        "novel_title = soup.select('#workTitle')[0].text\n",
        "author = soup.select(\"#workAuthor-activityName\")[0].text\n",
        "s = len(soup.select(\"li.widget-toc-episode\"))\n",
        "print(novel_title)\n",
        "\n",
        "try:\n",
        "  sheet = book.worksheet(novel_title[:16])\n",
        "except:\n",
        "  sheet = book.add_worksheet(novel_title[:16],5+s,6) "
      ],
      "execution_count": null,
      "outputs": []
    },
    {
      "cell_type": "code",
      "metadata": {
        "id": "-mlS2yF9WoBy"
      },
      "source": [
        "sheet.update_cell(1,1,\"タイトル\")\n",
        "sheet.update_cell(1,2,\"作品名：\"+novel_title)\n",
        "sheet.update_acell(\"A2\",\"著者\")\n",
        "sheet.update_acell(\"B2\",\"作者：\"+author)\n",
        "sheet.update_acell(\"A3\",\"NCODE\")\n",
        "sheet.update_acell(\"B3\",NCODE)"
      ],
      "execution_count": null,
      "outputs": []
    },
    {
      "cell_type": "markdown",
      "metadata": {
        "id": "xZ01K1LpJRNe"
      },
      "source": [
        ""
      ]
    },
    {
      "cell_type": "code",
      "metadata": {
        "id": "i-kRIePBW4aG"
      },
      "source": [
        "i = 4\n",
        "sheet.append_row([\"更新\",\"サブタイトル\",\"前書き\",\"あとがき\",\"本文\",\"URL\"])\n",
        "file = \"Load.txt\"\n",
        "for data in soup.select(\"li.widget-toc-episode\"):\n",
        "  subtitle = data.select_one(\"span\").get_text(strip=True)\n",
        "  update = data.select_one(\"time.widget-toc-episode-datePublished\").get_text(strip=True)\n",
        "  texturl = urljoin(url,data.a['href'])\n",
        "  print(subtitle,update,texturl)\n",
        "  \n",
        "\n",
        "  textdata = urlopen(texturl)\n",
        "  textsoup = BeautifulSoup(textdata,\"lxml\")\n",
        "  text = textsoup.find(\"div\",class_=\"widget-episodeBody js-episode-body\").get_text(strip=True)\n",
        "\n",
        "  preface = ''\n",
        "  for tp in textsoup.select(\"div#novel_p\"):\n",
        "    preface += tp.get_text(strip=True)\n",
        "  afterword = ''\n",
        "  for aw in textsoup.select(\"div#novel_a\"):\n",
        "    afterword += aw.get_text(strip=True)\n",
        "  list =[update,subtitle,preface,afterword,text,texturl]\n",
        "  i+=1\n",
        "  for j,data in enumerate(list):\n",
        "    sheet.update_cell(i,j+1,data) \n",
        "    \n",
        "  fileobj = open(file, \"w\", encoding = \"utf_8\")\n",
        "  fileobj.write(subtitle);\n",
        "  fileobj.write(text);\n"
      ],
      "execution_count": null,
      "outputs": []
    }
  ]
}